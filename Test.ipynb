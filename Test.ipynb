{
  "nbformat": 4,
  "nbformat_minor": 0,
  "metadata": {
    "colab": {
      "name": "Test.ipynb",
      "provenance": [],
      "authorship_tag": "ABX9TyNvuefzliw0klA0MSaFn+YE",
      "include_colab_link": true
    },
    "kernelspec": {
      "name": "python3",
      "display_name": "Python 3"
    }
  },
  "cells": [
    {
      "cell_type": "markdown",
      "metadata": {
        "id": "view-in-github",
        "colab_type": "text"
      },
      "source": [
        "<a href=\"https://colab.research.google.com/github/Manuel401-3/Test/blob/main/Test.ipynb\" target=\"_parent\"><img src=\"https://colab.research.google.com/assets/colab-badge.svg\" alt=\"Open In Colab\"/></a>"
      ]
    },
    {
      "cell_type": "code",
      "metadata": {
        "colab": {
          "base_uri": "https://localhost:8080/"
        },
        "id": "EEnOAlv0N4Tr",
        "outputId": "05db4532-cd51-45a2-c2f9-9704fb8c406c"
      },
      "source": [
        "def merge(arr, l, m, r): \n",
        "    n1 = m - l + 1\n",
        "    n2 = r- m \n",
        "  \n",
        "    # create temp arrays \n",
        "    L = [0] * (n1) \n",
        "    R = [0] * (n2) \n",
        "  \n",
        "    # Copy data to temp arrays L[] and R[] \n",
        "    for i in range(0 , n1): \n",
        "        L[i] = arr[l + i] \n",
        "  \n",
        "    for j in range(0 , n2): \n",
        "        R[j] = arr[m + 1 + j] \n",
        "  \n",
        "    # Merge the temp arrays back into arr[l..r] \n",
        "    i = 0     # Initial index of first subarray \n",
        "    j = 0     # Initial index of second subarray \n",
        "    k = l     # Initial index of merged subarray \n",
        "  \n",
        "    while i < n1 and j < n2 : \n",
        "        if L[i] <= R[j]: \n",
        "            arr[k] = L[i] \n",
        "            i += 1\n",
        "        else: \n",
        "            arr[k] = R[j] \n",
        "            j += 1\n",
        "        k += 1\n",
        "  \n",
        "    # Copy the remaining elements of L[], if there \n",
        "    # are any \n",
        "    while i < n1: \n",
        "        arr[k] = L[i] \n",
        "        i += 1\n",
        "        k += 1\n",
        "  \n",
        "    # Copy the remaining elements of R[], if there \n",
        "    # are any \n",
        "    while j < n2: \n",
        "        arr[k] = R[j] \n",
        "        j += 1\n",
        "        k += 1\n",
        "  \n",
        "# l is for left index and r is right index of the \n",
        "# sub-array of arr to be sorted \n",
        "def mergeSort(arr,l,r): \n",
        "    if l < r: \n",
        "  \n",
        "        # Same as (l+r)//2, but avoids overflow for \n",
        "        # large l and h \n",
        "        m = (l+(r-1))//2\n",
        "  \n",
        "        # Sort first and second halves \n",
        "        mergeSort(arr, l, m) \n",
        "        mergeSort(arr, m+1, r) \n",
        "        merge(arr, l, m, r) \n",
        "  \n",
        "  \n",
        "# Driver code to test above \n",
        "arr = [12, 11, 13, 5, 6, 7] \n",
        "n = len(arr) \n",
        "print (\"Given array is\") \n",
        "for i in range(n): \n",
        "    print (\"%d\" %arr[i]), \n",
        "  \n",
        "mergeSort(arr,0,n-1) \n",
        "print (\"\\n\\nSorted array is\") \n",
        "for i in range(n): \n",
        "    print (\"%d\" %arr[i]), \n",
        "  \n",
        "# This code is contributed by Mohit Kumra "
      ],
      "execution_count": null,
      "outputs": [
        {
          "output_type": "stream",
          "text": [
            "Given array is\n",
            "12\n",
            "11\n",
            "13\n",
            "5\n",
            "6\n",
            "7\n",
            "\n",
            "\n",
            "Sorted array is\n",
            "5\n",
            "6\n",
            "7\n",
            "11\n",
            "12\n",
            "13\n"
          ],
          "name": "stdout"
        }
      ]
    }
  ]
}